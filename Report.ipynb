{
 "cells": [
  {
   "cell_type": "markdown",
   "metadata": {},
   "source": [
    "### Import all necessary packages"
   ]
  },
  {
   "cell_type": "code",
   "execution_count": 3,
   "metadata": {},
   "outputs": [
    {
     "name": "stdout",
     "output_type": "stream",
     "text": [
      "'sale'\n",
      "'produce'\n",
      "'beverages'\n",
      "'timestamp'\n",
      "(19, 4)\n",
      "(19, 4)\n"
     ]
    },
    {
     "data": {
      "text/html": [
       "<div>\n",
       "<style scoped>\n",
       "    .dataframe tbody tr th:only-of-type {\n",
       "        vertical-align: middle;\n",
       "    }\n",
       "\n",
       "    .dataframe tbody tr th {\n",
       "        vertical-align: top;\n",
       "    }\n",
       "\n",
       "    .dataframe thead th {\n",
       "        text-align: right;\n",
       "    }\n",
       "</style>\n",
       "<table border=\"1\" class=\"dataframe\">\n",
       "  <thead>\n",
       "    <tr style=\"text-align: right;\">\n",
       "      <th></th>\n",
       "      <th>sale</th>\n",
       "      <th>produce</th>\n",
       "      <th>beverages</th>\n",
       "      <th>timestamp</th>\n",
       "    </tr>\n",
       "  </thead>\n",
       "  <tbody>\n",
       "    <tr>\n",
       "      <th>0</th>\n",
       "      <td>1</td>\n",
       "      <td>apple</td>\n",
       "      <td>apple juice</td>\n",
       "      <td>10/1/2024</td>\n",
       "    </tr>\n",
       "    <tr>\n",
       "      <th>1</th>\n",
       "      <td>2</td>\n",
       "      <td>NaN</td>\n",
       "      <td>apple juice</td>\n",
       "      <td>10/2/2024</td>\n",
       "    </tr>\n",
       "    <tr>\n",
       "      <th>2</th>\n",
       "      <td>3</td>\n",
       "      <td>apple</td>\n",
       "      <td>NaN</td>\n",
       "      <td>10/3/2024</td>\n",
       "    </tr>\n",
       "    <tr>\n",
       "      <th>3</th>\n",
       "      <td>4</td>\n",
       "      <td>NaN</td>\n",
       "      <td>water</td>\n",
       "      <td>10/4/2024</td>\n",
       "    </tr>\n",
       "    <tr>\n",
       "      <th>4</th>\n",
       "      <td>5</td>\n",
       "      <td>NaN</td>\n",
       "      <td>lemonade</td>\n",
       "      <td>10/5/2024</td>\n",
       "    </tr>\n",
       "    <tr>\n",
       "      <th>5</th>\n",
       "      <td>6</td>\n",
       "      <td>apple</td>\n",
       "      <td>banana juice</td>\n",
       "      <td>10/6/2024</td>\n",
       "    </tr>\n",
       "    <tr>\n",
       "      <th>6</th>\n",
       "      <td>7</td>\n",
       "      <td>apple</td>\n",
       "      <td>NaN</td>\n",
       "      <td>10/7/2024</td>\n",
       "    </tr>\n",
       "    <tr>\n",
       "      <th>7</th>\n",
       "      <td>8</td>\n",
       "      <td>banana</td>\n",
       "      <td>NaN</td>\n",
       "      <td>10/8/2024</td>\n",
       "    </tr>\n",
       "    <tr>\n",
       "      <th>8</th>\n",
       "      <td>9</td>\n",
       "      <td>banana</td>\n",
       "      <td>orange juice</td>\n",
       "      <td>10/9/2024</td>\n",
       "    </tr>\n",
       "    <tr>\n",
       "      <th>9</th>\n",
       "      <td>10</td>\n",
       "      <td>banana</td>\n",
       "      <td>NaN</td>\n",
       "      <td>10/10/2024</td>\n",
       "    </tr>\n",
       "    <tr>\n",
       "      <th>10</th>\n",
       "      <td>11</td>\n",
       "      <td>NaN</td>\n",
       "      <td>milk</td>\n",
       "      <td>10/11/2024</td>\n",
       "    </tr>\n",
       "    <tr>\n",
       "      <th>11</th>\n",
       "      <td>12</td>\n",
       "      <td>banana</td>\n",
       "      <td>NaN</td>\n",
       "      <td>10/12/2024</td>\n",
       "    </tr>\n",
       "    <tr>\n",
       "      <th>12</th>\n",
       "      <td>13</td>\n",
       "      <td>banana</td>\n",
       "      <td>NaN</td>\n",
       "      <td>10/13/2024</td>\n",
       "    </tr>\n",
       "    <tr>\n",
       "      <th>13</th>\n",
       "      <td>14</td>\n",
       "      <td>apple</td>\n",
       "      <td>NaN</td>\n",
       "      <td>10/14/2024</td>\n",
       "    </tr>\n",
       "    <tr>\n",
       "      <th>14</th>\n",
       "      <td>15</td>\n",
       "      <td>apple</td>\n",
       "      <td>NaN</td>\n",
       "      <td>10/15/2024</td>\n",
       "    </tr>\n",
       "    <tr>\n",
       "      <th>15</th>\n",
       "      <td>16</td>\n",
       "      <td>orange</td>\n",
       "      <td>NaN</td>\n",
       "      <td>10/16/2024</td>\n",
       "    </tr>\n",
       "    <tr>\n",
       "      <th>16</th>\n",
       "      <td>17</td>\n",
       "      <td>NaN</td>\n",
       "      <td>lucazoid</td>\n",
       "      <td>10/17/2024</td>\n",
       "    </tr>\n",
       "    <tr>\n",
       "      <th>17</th>\n",
       "      <td>18</td>\n",
       "      <td>orange</td>\n",
       "      <td>NaN</td>\n",
       "      <td>10/18/2024</td>\n",
       "    </tr>\n",
       "    <tr>\n",
       "      <th>18</th>\n",
       "      <td>19</td>\n",
       "      <td>orange</td>\n",
       "      <td>NaN</td>\n",
       "      <td>10/19/2024</td>\n",
       "    </tr>\n",
       "  </tbody>\n",
       "</table>\n",
       "</div>"
      ],
      "text/plain": [
       "    sale produce     beverages   timestamp\n",
       "0      1   apple   apple juice   10/1/2024\n",
       "1      2     NaN   apple juice   10/2/2024\n",
       "2      3   apple           NaN   10/3/2024\n",
       "3      4     NaN         water   10/4/2024\n",
       "4      5     NaN      lemonade   10/5/2024\n",
       "5      6   apple  banana juice   10/6/2024\n",
       "6      7   apple           NaN   10/7/2024\n",
       "7      8  banana           NaN   10/8/2024\n",
       "8      9  banana  orange juice   10/9/2024\n",
       "9     10  banana           NaN  10/10/2024\n",
       "10    11     NaN          milk  10/11/2024\n",
       "11    12  banana           NaN  10/12/2024\n",
       "12    13  banana           NaN  10/13/2024\n",
       "13    14   apple           NaN  10/14/2024\n",
       "14    15   apple           NaN  10/15/2024\n",
       "15    16  orange           NaN  10/16/2024\n",
       "16    17     NaN      lucazoid  10/17/2024\n",
       "17    18  orange           NaN  10/18/2024\n",
       "18    19  orange           NaN  10/19/2024"
      ]
     },
     "execution_count": 3,
     "metadata": {},
     "output_type": "execute_result"
    }
   ],
   "source": [
    "import pandas as pd\n",
    "\n",
    "data = pd.read_csv(r\"data.csv\")\n",
    "\n",
    "for col in data.columns:\n",
    "    print(f\"'{col}'\")\n",
    "print(data.shape)\n",
    "\n",
    "print(data.shape)\n",
    "data"
   ]
  },
  {
   "cell_type": "code",
   "execution_count": 4,
   "metadata": {},
   "outputs": [
    {
     "name": "stdout",
     "output_type": "stream",
     "text": [
      "(7, 4)\n"
     ]
    },
    {
     "data": {
      "text/html": [
       "<div>\n",
       "<style scoped>\n",
       "    .dataframe tbody tr th:only-of-type {\n",
       "        vertical-align: middle;\n",
       "    }\n",
       "\n",
       "    .dataframe tbody tr th {\n",
       "        vertical-align: top;\n",
       "    }\n",
       "\n",
       "    .dataframe thead th {\n",
       "        text-align: right;\n",
       "    }\n",
       "</style>\n",
       "<table border=\"1\" class=\"dataframe\">\n",
       "  <thead>\n",
       "    <tr style=\"text-align: right;\">\n",
       "      <th></th>\n",
       "      <th>sale</th>\n",
       "      <th>produce</th>\n",
       "      <th>beverages</th>\n",
       "      <th>timestamp</th>\n",
       "    </tr>\n",
       "  </thead>\n",
       "  <tbody>\n",
       "    <tr>\n",
       "      <th>0</th>\n",
       "      <td>1</td>\n",
       "      <td>apple</td>\n",
       "      <td>apple juice</td>\n",
       "      <td>10/1/2024</td>\n",
       "    </tr>\n",
       "    <tr>\n",
       "      <th>1</th>\n",
       "      <td>2</td>\n",
       "      <td>NaN</td>\n",
       "      <td>apple juice</td>\n",
       "      <td>10/2/2024</td>\n",
       "    </tr>\n",
       "    <tr>\n",
       "      <th>2</th>\n",
       "      <td>3</td>\n",
       "      <td>apple</td>\n",
       "      <td>NaN</td>\n",
       "      <td>10/3/2024</td>\n",
       "    </tr>\n",
       "    <tr>\n",
       "      <th>5</th>\n",
       "      <td>6</td>\n",
       "      <td>apple</td>\n",
       "      <td>banana juice</td>\n",
       "      <td>10/6/2024</td>\n",
       "    </tr>\n",
       "    <tr>\n",
       "      <th>6</th>\n",
       "      <td>7</td>\n",
       "      <td>apple</td>\n",
       "      <td>NaN</td>\n",
       "      <td>10/7/2024</td>\n",
       "    </tr>\n",
       "    <tr>\n",
       "      <th>13</th>\n",
       "      <td>14</td>\n",
       "      <td>apple</td>\n",
       "      <td>NaN</td>\n",
       "      <td>10/14/2024</td>\n",
       "    </tr>\n",
       "    <tr>\n",
       "      <th>14</th>\n",
       "      <td>15</td>\n",
       "      <td>apple</td>\n",
       "      <td>NaN</td>\n",
       "      <td>10/15/2024</td>\n",
       "    </tr>\n",
       "  </tbody>\n",
       "</table>\n",
       "</div>"
      ],
      "text/plain": [
       "    sale produce     beverages   timestamp\n",
       "0      1   apple   apple juice   10/1/2024\n",
       "1      2     NaN   apple juice   10/2/2024\n",
       "2      3   apple           NaN   10/3/2024\n",
       "5      6   apple  banana juice   10/6/2024\n",
       "6      7   apple           NaN   10/7/2024\n",
       "13    14   apple           NaN  10/14/2024\n",
       "14    15   apple           NaN  10/15/2024"
      ]
     },
     "execution_count": 4,
     "metadata": {},
     "output_type": "execute_result"
    }
   ],
   "source": [
    "# generate a generic statistic\n",
    "\n",
    "appleBased = data[(data['produce'] == 'apple') | (data['beverages'] == 'apple juice')]\n",
    "\n",
    "print(appleBased.shape)\n",
    "appleBased"
   ]
  },
  {
   "cell_type": "code",
   "execution_count": 5,
   "metadata": {},
   "outputs": [
    {
     "name": "stdout",
     "output_type": "stream",
     "text": [
      "(14, 4)\n"
     ]
    }
   ],
   "source": [
    "fruit = data[~data['produce'].isna()]\n",
    "print(fruit.shape)"
   ]
  },
  {
   "cell_type": "markdown",
   "metadata": {},
   "source": [
    "#### & Read in and explore data"
   ]
  },
  {
   "cell_type": "code",
   "execution_count": 6,
   "metadata": {},
   "outputs": [
    {
     "name": "stdout",
     "output_type": "stream",
     "text": [
      "1.11\n"
     ]
    }
   ],
   "source": [
    "common = len(fruit) + len(appleBased)\n",
    "print(f'{common / len(data):.2f}')\n",
    "total = len(data)"
   ]
  },
  {
   "cell_type": "code",
   "execution_count": null,
   "metadata": {},
   "outputs": [
    {
     "name": "stdout",
     "output_type": "stream",
     "text": [
      "100.00%\n"
     ]
    },
    {
     "data": {
      "text/plain": [
       "(19, 4)"
      ]
     },
     "execution_count": 8,
     "metadata": {},
     "output_type": "execute_result"
    }
   ],
   "source": [
    "commonSales = data[(data['produce'] == 'apple') | (data['beverages'] == 'apple juice') | (data['produce'] != 'NaN')]\n",
    "percentage = f'{len(commonSales) / len(data):.2%}'\n",
    "print(percentage)\n",
    "commonSales.shape\n"
   ]
  },
  {
   "cell_type": "code",
   "execution_count": 9,
   "metadata": {},
   "outputs": [
    {
     "name": "stdout",
     "output_type": "stream",
     "text": [
      "1.00\n"
     ]
    },
    {
     "data": {
      "text/plain": [
       "(19, 4)"
      ]
     },
     "execution_count": 9,
     "metadata": {},
     "output_type": "execute_result"
    }
   ],
   "source": [
    "trifecta = data[(data['produce'] == 'apple') | (data['beverages'] == 'apple juice') | (data['produce'] != 'NaN')]\n",
    "print(f'{len(trifecta) / len(data):.2f}')\n",
    "trifecta.shape"
   ]
  },
  {
   "cell_type": "code",
   "execution_count": 10,
   "metadata": {},
   "outputs": [
    {
     "data": {
      "text/plain": [
       "2"
      ]
     },
     "execution_count": 10,
     "metadata": {},
     "output_type": "execute_result"
    }
   ],
   "source": [
    "common - len(trifecta)"
   ]
  },
  {
   "cell_type": "code",
   "execution_count": null,
   "metadata": {},
   "outputs": [],
   "source": [
    "import getpass  \n",
    "from docx import Document\n",
    "from docx.shared import Inches\n",
    "from datetime import datetime\n",
    "import subprocess \n",
    "import matplotlib.pyplot as plt\n",
    "import numpy as np\n",
    "\n",
    "# filter down to top values to avoid huge charts\n",
    "def count_top_unique_values(df, column, top_n=10):\n",
    "    \"\"\"Count the top N unique values in a specified DataFrame column.\"\"\"\n",
    "    return df[column].value_counts().nlargest(top_n)\n",
    "\n",
    " # mpl function to make bar charts\n",
    "def create_bar_chart(data_series):\n",
    "    \"\"\"Create a bar chart from the given Series of counts.\"\"\"\n",
    "    plt.figure(figsize=(16, 9))\n",
    "    plt.bar(data_series.index, data_series.values, color='skyblue')\n",
    "    plt.title('Top 5 Unique Values')\n",
    "    plt.xlabel('Values')\n",
    "    plt.ylabel('Counts')\n",
    "    \n",
    "    chart_path = 'bar_chart.png'\n",
    "    plt.savefig(chart_path)\n",
    "    plt.close()\n",
    "    return chart_path\n",
    "\n",
    "# gpt function to check out git username\n",
    "def get_git_user():\n",
    "    \"\"\"Get the git user name from the system, if available.\"\"\"\n",
    "    try:\n",
    "        git_user = subprocess.check_output([\"git\", \"config\", \"user.name\"]).strip().decode('utf-8')\n",
    "        return git_user\n",
    "    except Exception:\n",
    "        return None\n",
    "\n",
    "# Set function to generate report\n",
    "def generate_report(df, column, title, author=None):\n",
    "    source = \"unknown\"  \n",
    "\n",
    "    # Use system login name first\n",
    "    if author is None:\n",
    "        author = getpass.getuser()\n",
    "        source = \"System\" \n",
    "\n",
    "        # Check for Git user as fallback\n",
    "        git_user = get_git_user()\n",
    "        if git_user:\n",
    "            author = git_user\n",
    "            source = \"Git\"\n",
    "        else: None \n",
    "\n",
    "    print(f'Author: {author} (Source determined: {source})')\n",
    "    \n",
    "    data_series = count_top_unique_values(df, column)\n",
    "\n",
    "    # run bar chart function\n",
    "    chart_path = create_bar_chart(data_series)\n",
    "    \n",
    "    # open new doc\n",
    "    doc = Document()\n",
    "\n",
    "    # adding Title\n",
    "    doc.add_heading('Sales Review', 0)\n",
    "\n",
    "    # Add Date\n",
    "    doc.add_paragraph(f'Created On: {datetime.now().strftime(\"%Y-%m-%d\")}')\n",
    "\n",
    "    # Add Author\n",
    "    doc.add_paragraph(f'Created By: {author}')\n",
    "\n",
    "    doc.add_heading('High Level Summary', level=1)\n",
    "    doc.add_paragraph(\n",
    "        \"Summary of what is being covered in this document.\"\n",
    "    )\n",
    "\n",
    "    ### insert chart ###\n",
    "    doc.add_picture(chart_path, width=Inches(5.5))\n",
    "    doc.add_paragraph(\"Figure 1: Metrics Overview\")\n",
    "    ###\n",
    "\n",
    "    doc.add_heading('Expanded Overview', level=1)\n",
    "    doc.add_paragraph('Exact counts of the following items:')\n",
    "\n",
    "    # example of how to iterate and add bullets\n",
    "    for value, count in data_series.items():\n",
    "        doc.add_paragraph(f'{value}: {count}', style='List Bullet')\n",
    "\n",
    "    # semi dynamic paragraph\n",
    "    doc.add_heading('Analysis', level=1)\n",
    "\n",
    "    doc.add_paragraph(\n",
    "        f\"Of our total {total} sales, {percentage} were either apples or apple juice.\\n\"\n",
    "        f\"1. apple based products: {len(appleBased)} .\\n\"\n",
    "        f\"2. common sales: {len(commonSales)} .\\n\"\n",
    "        f\"3. all fruit: {len(fruit)} .\\n\"\n",
    "    )\n",
    "\n",
    "    # boiler plate\n",
    "    doc.add_heading('Recommendations', level=1)\n",
    "    doc.add_paragraph(\n",
    "        \"Based on the analysis of the metrics, we recommend the following actions:\\n\"\n",
    "        \"1. Increase advertisement for non apple based products\\n\"\n",
    "        \"2. consider discounting non apple based products.\"\n",
    "    )\n",
    "\n",
    "    # boiler plate\n",
    "    doc.add_heading('Conclusion', level=1)\n",
    "    doc.add_paragraph(\n",
    "        \"This concludes the analysis of the key metrics for this period. \"\n",
    "        \"Please reach out for further details or clarification.\"\n",
    "    )\n",
    "\n",
    "    # Save doc to generic drive - can easily organize better\n",
    "    doc_name = f'C:\\\\{title}_{datetime.now().strftime(\"%Y%m%d\")}.docx'\n",
    "    doc.save(doc_name)\n",
    "\n",
    "    return doc_name\n",
    "\n",
    "\n",
    "# run report func\n",
    "title = 'Sales Review'\n",
    "report_file = generate_report(commonSales, 'Model', title)\n",
    "\n",
    "print(f'Report saved as: {report_file}')\n"
   ]
  },
  {
   "cell_type": "code",
   "execution_count": null,
   "metadata": {},
   "outputs": [
    {
     "name": "stdout",
     "output_type": "stream",
     "text": [
      "sending...\n",
      "0.042 Seconds Elapsed\n"
     ]
    }
   ],
   "source": [
    "import os\n",
    "import sys\n",
    "# import win32api\n",
    "import win32com.client\n",
    "import time\n",
    "import pathlib\n",
    "import datetime\n",
    "from datetime import date, datetime, timedelta\n",
    "start = time.time()\n",
    "print(\"sending...\")\n",
    "\n",
    "outlook = win32com.client.Dispatch('outlook.application')\n",
    "mail = outlook.CreateItem(0)\n",
    "#DiscountTripleCheck\n",
    "# mail.To = 'Last, First'\n",
    "mail.Subject = title\n",
    "mail.HTMLBody = \"<p>Good morning,<br></br><br></br>Attached is the sales review for 2023<br></br><br></br> Best,<br></br> First Last<br></br></p>\"\n",
    "\n",
    "mail.Attachments.Add(report_file)\n",
    "# mail.Attachments.Add(doc_name)\n",
    "\n",
    "# mail.BCC = 'Last, First'\n",
    "\n",
    "mail.send\n",
    "end = time.time()\n",
    "# print time is in seconds to show the amount of time elapsed while the script ran\n",
    "print((str(end - start)[0:5]) + \" Seconds Elapsed\")\n"
   ]
  },
  {
   "cell_type": "markdown",
   "metadata": {},
   "source": [
    "### Combine it all together and maybe add a map"
   ]
  }
 ],
 "metadata": {
  "kernelspec": {
   "display_name": "notebooks",
   "language": "python",
   "name": "python3"
  },
  "language_info": {
   "codemirror_mode": {
    "name": "ipython",
    "version": 3
   },
   "file_extension": ".py",
   "mimetype": "text/x-python",
   "name": "python",
   "nbconvert_exporter": "python",
   "pygments_lexer": "ipython3",
   "version": "3.9.19"
  }
 },
 "nbformat": 4,
 "nbformat_minor": 2
}
